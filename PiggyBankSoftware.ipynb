{
 "cells": [
  {
   "cell_type": "code",
   "execution_count": 1,
   "metadata": {},
   "outputs": [
    {
     "name": "stdout",
     "output_type": "stream",
     "text": [
      " \n",
      "--------------------Start-------------------\n",
      " \n",
      "Start or End : Start\n",
      "Add, Withdraw or Check : Add\n",
      "Add amount :2000\n",
      "After adding,your updated balance is  2000.0 rupess\n",
      " \n",
      "Start or End : Start\n",
      "Add, Withdraw or Check : Add\n",
      "Add amount :300\n",
      "After adding,your updated balance is  2300.0 rupess\n",
      " \n",
      "Start or End : Start\n",
      "Add, Withdraw or Check : Withdraw\n",
      "Withdraw amount :1800\n",
      "After withdrawing, balance amount is  500.0 rupess\n",
      " \n",
      "Start or End : Start\n",
      "Add, Withdraw or Check : Check\n",
      "Your current balance is 500.0 rupees\n",
      " \n",
      "Start or End : End\n",
      " \n",
      "------------Program Ended-----------\n",
      " \n"
     ]
    }
   ],
   "source": [
    "mybalance=0\n",
    "print(\" \")\n",
    "print(\"--------------------Start-------------------\")\n",
    "while True:\n",
    "    print(\" \")\n",
    "    user = input(\"Start or End : \")\n",
    "    if user.strip() == \"Start\":\n",
    "        userinput = input(\"Add, Withdraw or Check : \")\n",
    "        if userinput.strip() == \"Add\":\n",
    "            amount=int(input('Add amount :'))\n",
    "            mybalance=mybalance+amount\n",
    "            print('After adding,your updated balance is ',float(mybalance), 'rupess')\n",
    "            continue\n",
    "        elif userinput.strip() == \"Withdraw\":\n",
    "            amount=int(input('Withdraw amount :'))\n",
    "            if amount>mybalance:\n",
    "                print('not sufficient')\n",
    "            mybalance=mybalance-amount\n",
    "            print('After withdrawing, balance amount is ',float(mybalance), 'rupess')\n",
    "            continue\n",
    "        elif userinput.strip() == \"Check\":\n",
    "            print('Your current balance is',float(mybalance),'rupees')\n",
    "            continue\n",
    "        else :\n",
    "            print(\" \")\n",
    "            print(\"Invalid Input.Try again\")\n",
    "            continue\n",
    "\n",
    "    elif user.strip() == \"End\" :\n",
    "        print(\" \")\n",
    "        print(\"------------Program Ended-----------\")\n",
    "        print(\" \")\n",
    "        break\n",
    "\n",
    "    else :\n",
    "        print(\" \")\n",
    "        print(\"Invalid Input. Try again\")\n",
    "        continue"
   ]
  },
  {
   "cell_type": "code",
   "execution_count": null,
   "metadata": {},
   "outputs": [],
   "source": []
  }
 ],
 "metadata": {
  "kernelspec": {
   "display_name": "Python 3",
   "language": "python",
   "name": "python3"
  },
  "language_info": {
   "codemirror_mode": {
    "name": "ipython",
    "version": 3
   },
   "file_extension": ".py",
   "mimetype": "text/x-python",
   "name": "python",
   "nbconvert_exporter": "python",
   "pygments_lexer": "ipython3",
   "version": "3.7.1"
  }
 },
 "nbformat": 4,
 "nbformat_minor": 2
}
